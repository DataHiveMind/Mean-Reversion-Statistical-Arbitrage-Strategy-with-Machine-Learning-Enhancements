{
 "cells": [
  {
   "cell_type": "markdown",
   "id": "5155be54",
   "metadata": {},
   "source": [
    "# Data Loading & Quality Checks"
   ]
  },
  {
   "cell_type": "code",
   "execution_count": null,
   "id": "cdcbbb00",
   "metadata": {},
   "outputs": [],
   "source": [
    "# Import and load data using your DataHandler\n",
    "from src.data_handler import DataHandler\n",
    "\n",
    "dh = DataHandler(data_dir=\"../data\")\n",
    "df = dh.load_data(\"minute_data.parquet\")  # or \"tick_data.parquet\"\n",
    "\n",
    "# Visualize missing data and outliers using DataHandler methods\n",
    "import matplotlib.pyplot as plt\n",
    "import seaborn as sns\n",
    "import pandas as pd\n",
    "import numpy as np\n",
    "\n",
    "plt.figure(figsize=(12, 4))\n",
    "sns.heatmap(df.isnull(), cbar=False)\n",
    "plt.title(\"Missing Data Heatmap\")\n",
    "plt.show()\n",
    "\n",
    "# Outlier detection and cleaning\n",
    "cleaned_df = dh.clean_data(df)\n",
    "print(\"Data cleaned: missing values filled, outliers clipped.\")"
   ]
  },
  {
   "cell_type": "markdown",
   "id": "19639e75",
   "metadata": {},
   "source": [
    "# Pair Seclection & Cointegration Analysis"
   ]
  },
  {
   "cell_type": "code",
   "execution_count": null,
   "id": "1bd72202",
   "metadata": {},
   "outputs": [],
   "source": [
    "# Use PairSelector for cointegration and hedge ratio\n",
    "from src.pair_selection import PairSelector\n",
    "\n",
    "selector = PairSelector(cleaned_df[[\"AAPL\", \"MSFT\"]])\n",
    "coint_pairs = selector.find_cointegrated_pairs()\n",
    "print(\"Cointegrated pairs:\", coint_pairs)\n",
    "\n",
    "# Engle-Granger and Johansen via PairSelector\n",
    "adf_p = selector.adf_test(cleaned_df[\"AAPL\"] - cleaned_df[\"MSFT\"])\n",
    "johansen_res = selector.johansen_test(cleaned_df[[\"AAPL\", \"MSFT\"]])\n",
    "print(\"ADF p-value:\", adf_p)\n",
    "print(\"Johansen test:\", johansen_res)\n",
    "\n",
    "# Visualize cointegrating residuals\n",
    "hedge_ratio = selector.calculate_hedge_ratio(cleaned_df[\"AAPL\"], cleaned_df[\"MSFT\"])\n",
    "residuals = cleaned_df[\"AAPL\"] - hedge_ratio * cleaned_df[\"MSFT\"]\n",
    "plt.figure(figsize=(12, 4))\n",
    "plt.plot(residuals)\n",
    "plt.title(\"Cointegrating Regression Residuals\")\n",
    "plt.show()"
   ]
  },
  {
   "cell_type": "markdown",
   "id": "1bdd2463",
   "metadata": {},
   "source": [
    "# Dynamic Hedge Ratio Visualization"
   ]
  },
  {
   "cell_type": "code",
   "execution_count": null,
   "id": "6fb5c02d",
   "metadata": {},
   "outputs": [],
   "source": [
    "# Kalman Filter dynamic hedge ratio\n",
    "kalman_hedge = selector.kalman_filter_hedge_ratio(cleaned_df[\"AAPL\"], cleaned_df[\"MSFT\"])\n",
    "plt.figure(figsize=(12, 4))\n",
    "plt.plot(kalman_hedge, label=\"Kalman Filter\")\n",
    "plt.axhline(hedge_ratio, color='r', linestyle='--', label=\"Static OLS\")\n",
    "plt.title(\"Dynamic vs Static Hedge Ratio\")\n",
    "plt.legend()\n",
    "plt.show()"
   ]
  },
  {
   "cell_type": "markdown",
   "id": "c3d195c4",
   "metadata": {},
   "source": [
    "# Feature Engineering & Mean-Reversion Diagnostics"
   ]
  },
  {
   "cell_type": "code",
   "execution_count": null,
   "id": "cdb4758b",
   "metadata": {},
   "outputs": [],
   "source": [
    "# Feature engineering for spread\n",
    "from src.features import FeatureEngineer\n",
    "\n",
    "fe = FeatureEngineer(pd.DataFrame({\"spread\": residuals}))\n",
    "fe.add_zscore(\"spread\").add_half_life(\"spread\").add_hurst_exponent(\"spread\")\n",
    "features_df = fe.get_features()\n",
    "print(features_df.tail())\n",
    "\n",
    "# Stationarity tests via PairSelector\n",
    "adf_p = selector.adf_test(residuals)\n",
    "kpss_p = selector.kpss_test(residuals)\n",
    "print(f\"ADF p-value: {adf_p:.4f}, KPSS p-value: {kpss_p:.4f}\")"
   ]
  },
  {
   "cell_type": "markdown",
   "id": "c5a332c0",
   "metadata": {},
   "source": [
    "# Clustering & Pair Scoring"
   ]
  },
  {
   "cell_type": "code",
   "execution_count": null,
   "id": "70e264fe",
   "metadata": {},
   "outputs": [],
   "source": [
    "# Clustering analysis for pair selection\n",
    "from sklearn.cluster import KMeans\n",
    "\n",
    "# Example: Use rolling correlation, volatility, and cointegration p-value as features\n",
    "pair_features = []\n",
    "tickers = cleaned_df.columns\n",
    "for i, t1 in enumerate(tickers):\n",
    "    for t2 in tickers[i+1:]:\n",
    "        selector = PairSelector(cleaned_df[[t1, t2]])\n",
    "        corr = cleaned_df[t1].rolling(60).corr(cleaned_df[t2]).mean()\n",
    "        vol = cleaned_df[[t1, t2]].pct_change().std().mean()\n",
    "        pval = selector.adf_test(cleaned_df[t1] - cleaned_df[t2])\n",
    "        pair_features.append([corr, vol, pval])\n",
    "pair_features = np.array(pair_features)\n",
    "\n",
    "kmeans = KMeans(n_clusters=4, random_state=42)\n",
    "labels = kmeans.fit_predict(pair_features)\n",
    "\n",
    "plt.figure(figsize=(8, 6))\n",
    "plt.scatter(pair_features[:,0], pair_features[:,2], c=labels, cmap='tab10')\n",
    "plt.xlabel(\"Correlation\")\n",
    "plt.ylabel(\"ADF p-value\")\n",
    "plt.title(\"Pair Clustering: Correlation vs ADF p-value\")\n",
    "plt.show()"
   ]
  },
  {
   "cell_type": "markdown",
   "id": "c533ce4c",
   "metadata": {},
   "source": [
    "# Scenario Analysis"
   ]
  },
  {
   "cell_type": "code",
   "execution_count": null,
   "id": "5bd53b53",
   "metadata": {},
   "outputs": [],
   "source": [
    "# Scenario analysis using DataHandler and PairSelector\n",
    "scenarios = [\n",
    "    (\"Normal Market\", cleaned_df),\n",
    "    (\"High Volatility\", cleaned_df * (1 + np.random.normal(0, 0.05, cleaned_df.shape))),\n",
    "    (\"Flash Crash\", cleaned_df.copy().assign(AAPL=cleaned_df[\"AAPL\"] * (1 - 0.2))),\n",
    "    (\"Regime Shift\", cleaned_df.copy().assign(MSFT=cleaned_df[\"MSFT\"] * (1 + np.linspace(0, 0.1, len(cleaned_df)))))\n",
    "]\n",
    "\n",
    "for name, scenario_df in scenarios:\n",
    "    selector = PairSelector(scenario_df[[\"AAPL\", \"MSFT\"]])\n",
    "    print(f\"Scenario: {name}\")\n",
    "    coint_pairs = selector.find_cointegrated_pairs()\n",
    "    print(\"  Cointegrated pairs:\", coint_pairs)\n",
    "    hl = fe.add_half_life(\"spread\").get_features().iloc[-1][\"spread_half_life\"]\n",
    "    print(f\"  Half-life: {hl:.2f}\")"
   ]
  },
  {
   "cell_type": "markdown",
   "id": "11f90cd6",
   "metadata": {},
   "source": [
    "# interactive Visualization"
   ]
  },
  {
   "cell_type": "code",
   "execution_count": null,
   "id": "bf3255f5",
   "metadata": {},
   "outputs": [],
   "source": [
    "# Interactive plot with plotly\n",
    "import plotly.graph_objs as go\n",
    "\n",
    "fig = go.Figure()\n",
    "fig.add_trace(go.Scatter(x=cleaned_df.index, y=cleaned_df[\"AAPL\"], name=\"AAPL\"))\n",
    "fig.add_trace(go.Scatter(x=cleaned_df.index, y=cleaned_df[\"MSFT\"], name=\"MSFT\"))\n",
    "fig.add_trace(go.Scatter(x=cleaned_df.index, y=residuals, name=\"Spread Residuals\", yaxis=\"y2\"))\n",
    "fig.update_layout(\n",
    "    title=\"Price Series and Spread Residuals\",\n",
    "    yaxis=dict(title=\"Price\"),\n",
    "    yaxis2=dict(title=\"Spread\", overlaying=\"y\", side=\"right\"),\n",
    "    legend=dict(x=0, y=1)\n",
    ")\n",
    "fig.show()"
   ]
  }
 ],
 "metadata": {
  "kernelspec": {
   "display_name": ".venv",
   "language": "python",
   "name": "python3"
  },
  "language_info": {
   "name": "python",
   "version": "3.12.1"
  }
 },
 "nbformat": 4,
 "nbformat_minor": 5
}
